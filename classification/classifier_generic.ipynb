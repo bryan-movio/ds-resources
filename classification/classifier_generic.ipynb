{
 "metadata": {
  "name": "",
  "signature": "sha256:f8b213f26a12f69e32788480a3985ef46eca5ff0ceb36003ed2c24034449b56a"
 },
 "nbformat": 3,
 "nbformat_minor": 0,
 "worksheets": [
  {
   "cells": [
    {
     "cell_type": "markdown",
     "metadata": {},
     "source": [
      "Import pandas for loading data, numpy, and sklearn cross validation, parameter optimisation, and classifiers"
     ]
    },
    {
     "cell_type": "code",
     "collapsed": false,
     "input": [
      "from __future__ import division\n",
      "import numpy as np\n",
      "import pandas as pd\n",
      "import time\n",
      "from sklearn import (metrics, cross_validation, grid_search)\n",
      "from sklearn import (linear_model, ensemble)\n",
      "import matplotlib.pyplot as plt\n",
      "%matplotlib inline  \n",
      "random_state = 2015"
     ],
     "language": "python",
     "metadata": {},
     "outputs": [],
     "prompt_number": 1
    },
    {
     "cell_type": "markdown",
     "metadata": {},
     "source": [
      "Set up training data filename and specify field that contains labels"
     ]
    },
    {
     "cell_type": "code",
     "collapsed": false,
     "input": [
      "train_file = 'data/train.csv'\n",
      "label_field = 'target'"
     ],
     "language": "python",
     "metadata": {},
     "outputs": [],
     "prompt_number": 2
    },
    {
     "cell_type": "markdown",
     "metadata": {},
     "source": [
      "Load training data and create separate labels"
     ]
    },
    {
     "cell_type": "code",
     "collapsed": false,
     "input": [
      "train = pd.read_csv(train_file)\n",
      "labels = train[label_field].values\n",
      "train = train.drop(label_field, axis=1)\n",
      "train = train.values"
     ],
     "language": "python",
     "metadata": {},
     "outputs": [],
     "prompt_number": 3
    },
    {
     "cell_type": "markdown",
     "metadata": {},
     "source": [
      "Set up available classifiers"
     ]
    },
    {
     "cell_type": "code",
     "collapsed": false,
     "input": [
      "logistic_class = linear_model.LogisticRegression(C=8.)\n",
      "rf_class = ensemble.RandomForestClassifier(n_estimators=200)\n",
      "model = rf_class"
     ],
     "language": "python",
     "metadata": {},
     "outputs": [],
     "prompt_number": 4
    },
    {
     "cell_type": "markdown",
     "metadata": {},
     "source": [
      "Set scoring function"
     ]
    },
    {
     "cell_type": "code",
     "collapsed": false,
     "input": [
      "scorer = 'accuracy'"
     ],
     "language": "python",
     "metadata": {},
     "outputs": [],
     "prompt_number": 5
    },
    {
     "cell_type": "markdown",
     "metadata": {},
     "source": [
      "Set up hyperparameters for test"
     ]
    },
    {
     "cell_type": "code",
     "collapsed": false,
     "input": [
      "param1 = 'min_samples_leaf'\n",
      "param1_vals = [1,2,4,8,16]\n",
      "param_grid = [{param1: param1_vals}]"
     ],
     "language": "python",
     "metadata": {},
     "outputs": [],
     "prompt_number": 6
    },
    {
     "cell_type": "markdown",
     "metadata": {},
     "source": [
      "Grid search for best hyperparameters"
     ]
    },
    {
     "cell_type": "code",
     "collapsed": false,
     "input": [
      "grid = grid_search.GridSearchCV(estimator=model, param_grid=param_grid, \n",
      "                                scoring=scorer, n_jobs=-1)\n",
      "grid.fit(train,labels)\n",
      "model = grid.best_estimator_\n",
      "print \"Best %s: %f\" % (param1, grid.best_params_[param1])"
     ],
     "language": "python",
     "metadata": {},
     "outputs": [
      {
       "output_type": "stream",
       "stream": "stdout",
       "text": [
        "Best min_samples_leaf: 4.000000\n"
       ]
      }
     ],
     "prompt_number": 7
    },
    {
     "cell_type": "markdown",
     "metadata": {},
     "source": [
      "Do 10-fold cross validation to estimate accuracy"
     ]
    },
    {
     "cell_type": "code",
     "collapsed": false,
     "input": [
      "cv10 = cross_validation.StratifiedKFold(y=labels, n_folds=10)\n",
      "cv10_score = np.mean(cross_validation.cross_val_score(model, train, y=labels,\n",
      "                                                      cv=cv10, scoring=scorer,\n",
      "                                                      n_jobs=-1))\n",
      "print \"10-Fold Score: %f\" % (cv10_score)"
     ],
     "language": "python",
     "metadata": {},
     "outputs": [
      {
       "output_type": "stream",
       "stream": "stdout",
       "text": [
        "10-Fold Score: 0.883612\n"
       ]
      }
     ],
     "prompt_number": 8
    },
    {
     "cell_type": "markdown",
     "metadata": {},
     "source": [
      "See how adding more data affects accuracy - set up train/test split"
     ]
    },
    {
     "cell_type": "code",
     "collapsed": false,
     "input": [
      "test_model = linear_model.LogisticRegression(C=1.)\n",
      "test_model = ensemble.RandomForestClassifier(n_estimators=10, min_samples_leaf=8)\n",
      "score_func = metrics.accuracy_score\n",
      "test_size = 0.30\n",
      "n_iter = 50\n",
      "sss = cross_validation.StratifiedShuffleSplit(y=labels, n_iter=n_iter, test_size=test_size,\n",
      "                                              random_state=random_state)\n",
      "n_pts = 50\n",
      "n_ix = (np.linspace(0.1,1,n_pts+1)*len(train)*test_size).astype(int)\n",
      "n_ix[0] = 0\n",
      "train_err = np.zeros(n_pts)\n",
      "test_err = np.zeros(n_pts)"
     ],
     "language": "python",
     "metadata": {},
     "outputs": [],
     "prompt_number": 46
    },
    {
     "cell_type": "markdown",
     "metadata": {},
     "source": [
      "Train classifier for increasing amounts of data"
     ]
    },
    {
     "cell_type": "code",
     "collapsed": false,
     "input": [
      "for trn_ix, tst_ix in sss:\n",
      "    test = train[tst_ix]\n",
      "    test_true = labels[tst_ix]\n",
      "    for nn in range(n_pts):\n",
      "        ix = trn_ix[n_ix[0]:n_ix[nn+1]]\n",
      "        test_model.fit(train[ix], labels[ix])\n",
      "        train_err[nn] += (score_func(labels[ix],test_model.predict(train[ix])))/n_iter\n",
      "        test_err[nn] += (score_func(test_true, test_model.predict(test)))/n_iter\n",
      "\n",
      "plt.plot(n_ix[1:],train_err, n_ix[1:],test_err);"
     ],
     "language": "python",
     "metadata": {},
     "outputs": [
      {
       "metadata": {},
       "output_type": "display_data",
       "png": "[encoded data removed]",
       "text": [
        "<matplotlib.figure.Figure at 0x7f1d6c2ea710>"
       ]
      }
     ],
     "prompt_number": 47
    },
    {
     "cell_type": "code",
     "collapsed": false,
     "input": [],
     "language": "python",
     "metadata": {},
     "outputs": []
    }
   ],
   "metadata": {}
  }
 ]
}