{
 "metadata": {
  "name": "",
  "signature": "sha256:d8d26deddb343adbbc84c7bce477bad394b2d609d82cd3125fa9500e18b271d5"
 },
 "nbformat": 3,
 "nbformat_minor": 0,
 "worksheets": [
  {
   "cells": [
    {
     "cell_type": "heading",
     "level": 2,
     "metadata": {},
     "source": [
      "Imports"
     ]
    },
    {
     "cell_type": "code",
     "collapsed": false,
     "input": [
      "random_state = 2015\n",
      "import numpy as np\n",
      "import pandas as pd\n",
      "from sklearn import preprocessing, cross_validation, metrics"
     ],
     "language": "python",
     "metadata": {},
     "outputs": [],
     "prompt_number": 1
    },
    {
     "cell_type": "code",
     "collapsed": false,
     "input": [
      "from lasagne.layers import DenseLayer\n",
      "from lasagne.layers import InputLayer\n",
      "from lasagne.layers import DropoutLayer\n",
      "from lasagne.nonlinearities import softmax\n",
      "from lasagne.updates import nesterov_momentum\n",
      "from nolearn.lasagne import NeuralNet"
     ],
     "language": "python",
     "metadata": {},
     "outputs": [],
     "prompt_number": 2
    },
    {
     "cell_type": "heading",
     "level": 2,
     "metadata": {},
     "source": [
      "Load Data"
     ]
    },
    {
     "cell_type": "code",
     "collapsed": false,
     "input": [
      "train_file = 'data/train_medical.csv'\n",
      "label_field = 'Severity'\n",
      "train = pd.read_csv(train_file)\n",
      "labels = train[label_field].values\n",
      "train = train.drop(label_field, axis=1)\n",
      "print train.columns\n",
      "train = train.values\n",
      "num_features = train.shape[1]\n",
      "scaler = preprocessing.StandardScaler()\n",
      "print num_features"
     ],
     "language": "python",
     "metadata": {},
     "outputs": [
      {
       "output_type": "stream",
       "stream": "stdout",
       "text": [
        "Index([u'Age2', u'APACHE_0', u'Glasgow_0', u'WCC_0', u'PO2_0', u'LDH_0', u'ALT_0', u'Albumin_0', u'Ca_0', u'Glucose_0', u'Urea_0', u'CRP_0', u'SIRS_0', u'Sex_f', u'Symptom_abdominal pain', u'Symptom_back pain', u'Symptom_chest pain', u'Shock_no', u'Aetiology_', u'Aetiology_ace inhibitor', u'Aetiology_alcohol', u'Aetiology_bendrofluazide', u'Aetiology_carcinoma', u'Aetiology_chemotherapy', u'Aetiology_chemptherapy', u'Aetiology_ercp', u'Aetiology_gall stone', u'Aetiology_hypercalcaemia', u'Aetiology_hyperlipidaemia', u'Aetiology_hypothermia', u'Aetiology_pancreatic divisum', u'Aetiology_steroid', u'Aetiology_trauma'], dtype='object')\n",
        "33\n"
       ]
      }
     ],
     "prompt_number": 3
    },
    {
     "cell_type": "heading",
     "level": 2,
     "metadata": {},
     "source": [
      "Create Neural Net"
     ]
    },
    {
     "cell_type": "code",
     "collapsed": false,
     "input": [
      "layers0 = [('input', InputLayer),\n",
      "           ('dense0', DenseLayer),\n",
      "           ('dropout0', DropoutLayer),\n",
      "           ('dense1', DenseLayer),\n",
      "           ('output', DenseLayer)]"
     ],
     "language": "python",
     "metadata": {},
     "outputs": [],
     "prompt_number": 4
    },
    {
     "cell_type": "code",
     "collapsed": false,
     "input": [
      "net0 = NeuralNet(layers=layers0, input_shape=(None, num_features),\n",
      "                 dense0_num_units=200, dropout0_p=0.5,\n",
      "                 dense1_num_units=50, output_num_units=2,\n",
      "                 output_nonlinearity=softmax,                                  \n",
      "                 update=nesterov_momentum, update_learning_rate=0.02, update_momentum=0.9,\n",
      "                 eval_size=0.2, verbose=0, max_epochs=50)"
     ],
     "language": "python",
     "metadata": {},
     "outputs": [],
     "prompt_number": 20
    },
    {
     "cell_type": "markdown",
     "metadata": {},
     "source": [
      "Create Stratified train/test sets"
     ]
    },
    {
     "cell_type": "code",
     "collapsed": false,
     "input": [
      "n_iter = 100\n",
      "test_size = 0.25\n",
      "sss = cross_validation.StratifiedShuffleSplit(y=labels, n_iter=n_iter, test_size=test_size,\n",
      "                                              random_state=random_state)\n",
      "score_func = metrics.accuracy_score"
     ],
     "language": "python",
     "metadata": {},
     "outputs": [],
     "prompt_number": 33
    },
    {
     "cell_type": "code",
     "collapsed": false,
     "input": [
      "scores = []\n",
      "for train_ix, test_ix in sss:\n",
      "    net0 = NeuralNet(layers=layers0, input_shape=(None, num_features),\n",
      "                 dense0_num_units=100, dropout0_p=0.5,\n",
      "                 dense1_num_units=50, output_num_units=2,\n",
      "                 output_nonlinearity=softmax,                                  \n",
      "                 update=nesterov_momentum, update_learning_rate=0.01, update_momentum=0.9,\n",
      "                 eval_size=0.2, verbose=0, max_epochs=20)\n",
      "    X = scaler.fit_transform(train[train_ix])\n",
      "    y = labels[train_ix].astype(np.int32)\n",
      "    X_test = scaler.transform(train[test_ix])\n",
      "    net0.fit(X, y)\n",
      "    scores.append(score_func(labels[test_ix], net0.predict(X_test)))\n",
      "    \n",
      "    #print \"Accuracy: %f\" % scores[-1]\n",
      "scores = np.array(scores)\n",
      "print \"Average: %f\" % np.mean(scores)\n",
      "print \"CI: %f\" % (2.*np.std(scores))    "
     ],
     "language": "python",
     "metadata": {},
     "outputs": []
    },
    {
     "cell_type": "code",
     "collapsed": false,
     "input": [],
     "language": "python",
     "metadata": {},
     "outputs": []
    }
   ],
   "metadata": {}
  }
 ]
}